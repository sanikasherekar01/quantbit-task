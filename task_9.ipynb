{
  "nbformat": 4,
  "nbformat_minor": 0,
  "metadata": {
    "colab": {
      "provenance": [],
      "authorship_tag": "ABX9TyOujFFLCUtX4VmfI/9FST7R",
      "include_colab_link": true
    },
    "kernelspec": {
      "name": "python3",
      "display_name": "Python 3"
    },
    "language_info": {
      "name": "python"
    }
  },
  "cells": [
    {
      "cell_type": "markdown",
      "metadata": {
        "id": "view-in-github",
        "colab_type": "text"
      },
      "source": [
        "<a href=\"https://colab.research.google.com/github/sanikasherekar01/quantbit-task/blob/main/task_9.ipynb\" target=\"_parent\"><img src=\"https://colab.research.google.com/assets/colab-badge.svg\" alt=\"Open In Colab\"/></a>"
      ]
    },
    {
      "cell_type": "code",
      "execution_count": 1,
      "metadata": {
        "colab": {
          "base_uri": "https://localhost:8080/"
        },
        "id": "aSq9XGlUt8Ht",
        "outputId": "ebdb009f-f922-4847-d248-44389cb2e763"
      },
      "outputs": [
        {
          "output_type": "stream",
          "name": "stdout",
          "text": [
            "Mean: 2.4\n",
            "Median: 2\n",
            "Mode: 2\n"
          ]
        }
      ],
      "source": [
        "import statistics\n",
        "\n",
        "# Input dataset\n",
        "data = [1, 2, 2, 3, 4]\n",
        "\n",
        "# Calculate mean, median, and mode\n",
        "mean = statistics.mean(data)\n",
        "median = statistics.median(data)\n",
        "mode = statistics.mode(data)\n",
        "\n",
        "# Output results\n",
        "print(\"Mean:\", mean)\n",
        "print(\"Median:\", median)\n",
        "print(\"Mode:\", mode)"
      ]
    }
  ]
}